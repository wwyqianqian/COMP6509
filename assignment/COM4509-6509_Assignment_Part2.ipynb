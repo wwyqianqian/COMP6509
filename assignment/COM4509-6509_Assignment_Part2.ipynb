{
 "cells": [
  {
   "cell_type": "markdown",
   "id": "71e9bc37",
   "metadata": {},
   "source": [
    "# COM4509/6509 MLAI - Assignment Part 2 Brief\n",
    "\n",
    "## Deadline: Friday, December 3, 2021 at 15:00 hrs\n",
    "\n",
    "## Scope: Sessions 6 to 8\n",
    "\n",
    "## Number of marks available for Part 2: 25\n",
    "\n",
    "### Please READ the whole assignment first, before starting to work on it.\n",
    "\n",
    "### How and what to submit\n",
    "\n",
    "1. A Jupyter Notebook with the code in all the cells executed, outputs displayed, and code\n",
    "documented.\n",
    "\n",
    "2. Name your Notebook as COM4509-6509_Assignment_Part2_Username_XXXXXX.ipynb where XXXXXX is your username such as abc18de.\n",
    "\n",
    "3. Upload a .zip file to Blackboard before the deadline that contains two Jupyter Notebooks, one for Part 1 and one for Part 2 (COM4509-6509_Assignment_Part1_Username_XXXXXX.ipynb and COM4509-6509_Assignment_Part2_Username_XXXXXX.ipynb)\n",
    "\n",
    "4. NO DATA UPLOAD: Please do not upload the data files used in this Notebook. We have a copy already. Instead, please use a relative file path in your code (data files under folder ‘data’), as in the lab notebook so that we can run your code smoothly when needed. So ‘./data/’, instead of ‘/User/username/myfiles/mlai/assignment1/’\n",
    "\n",
    "### Assessment Criteria\n",
    "\n",
    "1) Being able to build complete, reproducible machine learning pipelines from loading data to evaluating prediction performance.\n",
    "\n",
    "2) Being able to design different machine learning models to compare/optimise prediction performance.\n",
    "\n",
    "3) Being able to perform exploratory data analysis to gain insights."
   ]
  },
  {
   "cell_type": "markdown",
   "id": "abb06e57",
   "metadata": {},
   "source": [
    "## A. Reproducibility & readability"
   ]
  },
  {
   "cell_type": "code",
   "execution_count": null,
   "id": "6dcf83f6",
   "metadata": {},
   "outputs": [],
   "source": [
    "import numpy as np\n",
    "import torch\n",
    "import torchvision\n",
    "import torchvision.transforms as transforms\n",
    "from torch.utils.data import DataLoader, Dataset\n",
    "import matplotlib.pyplot as plt\n",
    "%matplotlib inline\n",
    "\n",
    "torch.manual_seed(210169508) # Set a random seed for reproducibility"
   ]
  },
  {
   "cell_type": "markdown",
   "id": "aeadc0be",
   "metadata": {},
   "source": [
    "## B. Logistic Regression on BreastMNIST [9 marks]\n",
    "\n",
    "The first version of the MedMNIST, published in ISBI21 (2010.14925.pdf (arxiv.org)). As taken from the paper: BreastMNIST is based on a dataset of 780 breast ultrasound images. It is categorized into 3 classes: normal, benign and malignant originally but in BreastMNIST, the task is simplified into binary classification by combining normal and benign as positive, and classifying them against malignant as negative. The source dataset with a ratio of 7 : 1 : 2 into training, validation and test set. The source images of 1 × 500 × 500 are resized into 1 × 28 × 28.\n",
    "\n",
    "We aim to train a L2-regularised logistic regression model to classify the two classes in BreastMNIST using the standard train/validation/test split with decent performance, i.e. much better than the chance level at worst."
   ]
  },
  {
   "cell_type": "markdown",
   "id": "0d2c6737",
   "metadata": {},
   "source": [
    "### B1 Data loading and inspection [3 mark]\n",
    "\n",
    "Follow instructions at https://github.com/MedMNIST/MedMNIST to download and load the data. Display at least ten images for each class, i.e. at least 20 images, from the training set. Display at least ten images for each class from the validation set, and display at least ten images for each class from the test set.\n"
   ]
  },
  {
   "cell_type": "code",
   "execution_count": null,
   "id": "0b1fe55f",
   "metadata": {},
   "outputs": [],
   "source": []
  },
  {
   "cell_type": "markdown",
   "id": "95546ace",
   "metadata": {},
   "source": [
    "### B2 Logistic regression [4 marks]\n",
    "\n",
    "Keep a record of the three metrics M1 to M3 below for the two models below:\n",
    "* M1) Training accuracy: the prediction accuracy of a trained model on the training dataset.\n",
    "* M2) Validation accuracy: the prediction accuracy of a trained model on the validation dataset.\n",
    "* M3) Testing accuracy: the prediction accuracy of a trained model on the test dataset.\n",
    "\n",
    "a) Using the built-in logistic regression functions in scikit-learn, train a logistic regression model with L2 regularisation on the training set, use the validation set to choose a good regularisation parameter (a hyperparameter) from at least three choices, and test the chosen model on the test set. Report the three metrics M1 to M3 [2 marks]\n",
    "\n",
    "b) Using PyTorch (see Question 5 of Lab 6), train a logistic regression model with L2 regularisation on the training set, use the validation set to choose a good regularisation parameter (a hyperparameter) from at least three choices, and test the chosen model on the test set. Report the three metrics M1 to M3 [2 marks]"
   ]
  },
  {
   "cell_type": "code",
   "execution_count": null,
   "id": "899b9e0a",
   "metadata": {},
   "outputs": [],
   "source": []
  },
  {
   "cell_type": "code",
   "execution_count": null,
   "id": "6c7de251",
   "metadata": {},
   "outputs": [],
   "source": []
  },
  {
   "cell_type": "markdown",
   "id": "a10c4dd4",
   "metadata": {},
   "source": [
    "### B3 Performance comparison (2 marks)\n",
    "\n",
    "a) Summarise each of the three metrics from the two models in B2 using one or more bar graphs. [1 mark]\n",
    "\n",
    "b) Describe at least two observations interesting to you. [1 mark]"
   ]
  },
  {
   "cell_type": "code",
   "execution_count": null,
   "id": "abbbaded",
   "metadata": {},
   "outputs": [],
   "source": []
  },
  {
   "cell_type": "code",
   "execution_count": null,
   "id": "6913c681",
   "metadata": {},
   "outputs": [],
   "source": []
  },
  {
   "cell_type": "code",
   "execution_count": null,
   "id": "3cbb9e67",
   "metadata": {},
   "outputs": [],
   "source": []
  },
  {
   "cell_type": "code",
   "execution_count": null,
   "id": "15332ba1",
   "metadata": {},
   "outputs": [],
   "source": []
  },
  {
   "cell_type": "code",
   "execution_count": null,
   "id": "d63b51cd",
   "metadata": {},
   "outputs": [],
   "source": []
  },
  {
   "cell_type": "code",
   "execution_count": null,
   "id": "dad9dc74",
   "metadata": {},
   "outputs": [],
   "source": []
  }
 ],
 "metadata": {
  "kernelspec": {
   "display_name": "Python 3 (ipykernel)",
   "language": "python",
   "name": "python3"
  },
  "language_info": {
   "codemirror_mode": {
    "name": "ipython",
    "version": 3
   },
   "file_extension": ".py",
   "mimetype": "text/x-python",
   "name": "python",
   "nbconvert_exporter": "python",
   "pygments_lexer": "ipython3",
   "version": "3.8.12"
  }
 },
 "nbformat": 4,
 "nbformat_minor": 5
}
