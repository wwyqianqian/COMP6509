{
 "cells": [
  {
   "cell_type": "markdown",
   "metadata": {},
   "source": [
    "# Introduction to PyTorch\n",
    "\n",
    "### Modified by Thomas McDonald, 25th October 2021\n",
    "\n",
    "### 28th October 2020 by Juan-José Giraldo and Mauricio A Álvarez\n",
    "\n",
    "In this notebook, we will look at the PyTorch library in Python (also known by its import name, `torch`) which allows for automatic differentiation. PyTorch will also be used to implement different neural network models later on.\n",
    "\n",
    "### Tensors"
   ]
  },
  {
   "cell_type": "markdown",
   "metadata": {},
   "source": [
    "A tensor generalises the concept of vectors and matrices to an arbitrary number of dimensions. Another name for the same concept is a multidimensional array. The dimensionality of a tensor is the number of indexes required to refer to scalar values within the tensor. The cell below shows an example initialising a Tensor uniformly in 1D, 2D and 3D:"
   ]
  },
  {
   "cell_type": "code",
   "execution_count": 1,
   "metadata": {},
   "outputs": [
    {
     "name": "stdout",
     "output_type": "stream",
     "text": [
      "Tensor 1D presents one index with shape torch.Size([2]) :\n",
      " tensor([0.5711, 0.4668])\n",
      "\n",
      "Tensor 2D presents two indexes with shape torch.Size([2, 3]) :\n",
      " tensor([[0.2742, 0.9511, 0.5974],\n",
      "        [0.6994, 0.7573, 0.7395]])\n",
      "\n",
      "Tensor 3D presents three indexes with shape torch.Size([5, 2, 3]) :\n",
      " tensor([[[0.7371, 0.0941, 0.3105],\n",
      "         [0.3957, 0.1519, 0.0255]],\n",
      "\n",
      "        [[0.1441, 0.8645, 0.5380],\n",
      "         [0.5663, 0.6334, 0.8750]],\n",
      "\n",
      "        [[0.1366, 0.5223, 0.2904],\n",
      "         [0.4766, 0.8593, 0.6771]],\n",
      "\n",
      "        [[0.7921, 0.3523, 0.2141],\n",
      "         [0.7500, 0.8162, 0.4800]],\n",
      "\n",
      "        [[0.8987, 0.2838, 0.1490],\n",
      "         [0.1408, 0.0620, 0.8081]]])\n"
     ]
    }
   ],
   "source": [
    "# We first import the torch library that comes with the Anaconda distribution\n",
    "import torch\n",
    "\n",
    "# Tensor 1D presents 1 index\n",
    "y = torch.rand([2])\n",
    "print(\"Tensor 1D presents one index\", \"with shape\", y.shape, \":\\n\", y) # get specific size with .shape\n",
    "\n",
    "# Tensor 2D presents 2 indexes\n",
    "y = torch.rand([2, 3])\n",
    "print(\"\\nTensor 2D presents two indexes\", \"with shape\", y.shape, \":\\n\", y)\n",
    "\n",
    "# Tensor 3D presents 3 indexes\n",
    "y = torch.rand([5, 2, 3])\n",
    "print(\"\\nTensor 3D presents three indexes\", \"with shape\", y.shape, \":\\n\", y)"
   ]
  },
  {
   "cell_type": "code",
   "execution_count": 2,
   "metadata": {},
   "outputs": [
    {
     "name": "stdout",
     "output_type": "stream",
     "text": [
      "tensor([ 8., 15.])\n"
     ]
    }
   ],
   "source": [
    "# Create a tensor with specific values\n",
    "x = torch.tensor([4.0,5.0], dtype=torch.float32)\n",
    "y = torch.tensor([2.0,3.0], dtype=torch.float32)\n",
    "\n",
    "# Tensor multiplication (point-wise multiplication)\n",
    "print(x*y)"
   ]
  },
  {
   "cell_type": "markdown",
   "metadata": {},
   "source": [
    "### Initialise a tensor with torch.zeros or torch.ones "
   ]
  },
  {
   "cell_type": "code",
   "execution_count": 3,
   "metadata": {},
   "outputs": [
    {
     "name": "stdout",
     "output_type": "stream",
     "text": [
      "x_zeros: tensor([[0., 0., 0., 0.],\n",
      "        [0., 0., 0., 0.],\n",
      "        [0., 0., 0., 0.]]) with shape torch.Size([3, 4]) \n",
      "\n",
      "x_ones: tensor([[1., 1., 1., 1., 1., 1.],\n",
      "        [1., 1., 1., 1., 1., 1.]]) with shape torch.Size([2, 6])\n"
     ]
    }
   ],
   "source": [
    "x_zeros = torch.zeros([3,4])\n",
    "print('x_zeros:', x_zeros, 'with shape', x_zeros.shape,'\\n')\n",
    "x_ones = torch.ones([2,6])\n",
    "print('x_ones:', x_ones, 'with shape', x_ones.shape)"
   ]
  },
  {
   "cell_type": "markdown",
   "metadata": {},
   "source": [
    "### Reshape a tensor using .view"
   ]
  },
  {
   "cell_type": "code",
   "execution_count": 4,
   "metadata": {},
   "outputs": [
    {
     "name": "stdout",
     "output_type": "stream",
     "text": [
      "tensor([[1.],\n",
      "        [1.],\n",
      "        [1.],\n",
      "        [1.],\n",
      "        [1.],\n",
      "        [1.]])\n"
     ]
    }
   ],
   "source": [
    "y = torch.ones([3, 2])\n",
    "y_reshaped = y.view(6, 1) # in contrast to the common numpy library, we use .view instead of .reshape\n",
    "print(y_reshaped)"
   ]
  },
  {
   "cell_type": "markdown",
   "metadata": {},
   "source": [
    "### Numpy interoperability \n",
    "\n",
    "PyTorch tensors can be converted efficiently to NumPy arrays and vice versa. By doing so, you can leverage the huge swath of functionality in the wider Python ecosystem that has built up around the NumPy array type."
   ]
  },
  {
   "cell_type": "code",
   "execution_count": 5,
   "metadata": {},
   "outputs": [
    {
     "name": "stdout",
     "output_type": "stream",
     "text": [
      "Array in numpy form with shape (3, 4) :\n",
      " [[1. 1. 1. 1.]\n",
      " [1. 1. 1. 1.]\n",
      " [1. 1. 1. 1.]]\n",
      "\n",
      "Array from Numpy to Torch with shape torch.Size([5, 8]) :\n",
      " tensor([[ 0.6494,  1.4343, -0.2013,  0.5777,  0.9225,  0.4276,  1.1224,  0.6620],\n",
      "        [ 1.2691, -0.0949, -0.8822,  0.2150,  0.2497, -0.3291,  0.5055, -0.6148],\n",
      "        [ 0.9168, -0.4602, -0.6918,  1.0157,  1.8414,  0.1759,  0.3641, -1.4484],\n",
      "        [-0.3259, -0.3499, -2.9393,  0.3254, -1.5724,  0.6016, -0.4948,  0.7935],\n",
      "        [-2.1097, -0.4363,  1.6955,  3.8327, -0.2978,  1.9312, -0.3385,  0.2367]],\n",
      "       dtype=torch.float64)\n"
     ]
    }
   ],
   "source": [
    "# Tensor_torch to tensor Numpy\n",
    "Tensor_torch = torch.ones(3, 4)\n",
    "Tensor_numpy = Tensor_torch.numpy() # Returns a NumPy multidim. array of the right size, shape and numerical type.\n",
    "print('Array in numpy form with shape', Tensor_numpy.shape, ':\\n', Tensor_numpy)\n",
    "\n",
    "# Tensor Numpy to Tensor_torch\n",
    "import numpy as np\n",
    "Tensor_np = np.random.randn(5, 8)\n",
    "Tensor_numpy_to_torch = torch.from_numpy(Tensor_np)\n",
    "print('\\nArray from Numpy to Torch with shape', Tensor_numpy_to_torch.shape, ':\\n', Tensor_numpy_to_torch)"
   ]
  },
  {
   "cell_type": "markdown",
   "metadata": {},
   "source": [
    "## Automatic Differentiation\n",
    "\n",
    "PyTorch allows to automatically obtain the gradients of a tensor with respect to a defined function. When creating the tensor, we have to indicate that it requires the gradient computation using the flag `requires_grad`  "
   ]
  },
  {
   "cell_type": "code",
   "execution_count": 6,
   "metadata": {},
   "outputs": [
    {
     "name": "stdout",
     "output_type": "stream",
     "text": [
      "tensor([0.3815, 0.3960, 0.2377], requires_grad=True)\n"
     ]
    }
   ],
   "source": [
    "x = torch.rand(3, requires_grad=True)\n",
    "print(x)"
   ]
  },
  {
   "cell_type": "markdown",
   "metadata": {},
   "source": [
    "Notice that now the Tensor shows the flag `requires_grad` as True. We can also activate such a flag in a Tensor already created as follows:"
   ]
  },
  {
   "cell_type": "code",
   "execution_count": 7,
   "metadata": {},
   "outputs": [
    {
     "name": "stdout",
     "output_type": "stream",
     "text": [
      "tensor([1., 2., 3.], requires_grad=True)\n"
     ]
    }
   ],
   "source": [
    "x = torch.tensor([1.0,2.0,3.0])\n",
    "x.requires_grad_(True)\n",
    "print(x)"
   ]
  },
  {
   "cell_type": "markdown",
   "metadata": {},
   "source": [
    "Let us define a function $y=x^2+5$. The function $y$ will not only carry the result of evaluating $x$, but also the gradient function $\\frac{\\partial y}{\\partial x}$ called `grad_fn` in the new tensor $y$"
   ]
  },
  {
   "cell_type": "code",
   "execution_count": 8,
   "metadata": {},
   "outputs": [
    {
     "name": "stdout",
     "output_type": "stream",
     "text": [
      "tensor([9.], grad_fn=<AddBackward0>)\n"
     ]
    }
   ],
   "source": [
    "x = torch.tensor([2.0])\n",
    "x.requires_grad_(True) # indicate we will need the gradients with respect to this variable\n",
    "y = x**2 + 5\n",
    "print(y) # 2**2 + 5 = 9"
   ]
  },
  {
   "cell_type": "markdown",
   "metadata": {},
   "source": [
    "To evaluate the partial derivative $\\frac{\\partial y}{\\partial x}$, we use the `.backward()` function and the result of the gradient evaluation is stored in `x.grad` "
   ]
  },
  {
   "cell_type": "code",
   "execution_count": 9,
   "metadata": {},
   "outputs": [
    {
     "name": "stdout",
     "output_type": "stream",
     "text": [
      "PyTorch gradient: tensor([4.])\n",
      "Analitical gradient: tensor([4.])\n"
     ]
    }
   ],
   "source": [
    "y.backward()  #dy/dx\n",
    "print('PyTorch gradient:', x.grad)\n",
    "\n",
    "# Let us compare with the analitical gradient of y = x**2+5\n",
    "with torch.no_grad():    # this is to only use the tensor value without its gradient information\n",
    "    dy_dx = 2*x          # analitical gradient\n",
    "print('Analitical gradient:', dy_dx)"
   ]
  },
  {
   "cell_type": "markdown",
   "metadata": {},
   "source": [
    "If we evaluate a vector $\\mathbf{w}=[w_1, \\ldots, w_D]^{\\top}$, to compute another vector $\\mathbf{g}=[g_1, \\ldots, g_D]^{\\top}$ with elements $g_i=w_i^2+5$, then we obtain a vector $\\mathbf{g}$ that contains each evaluation of the function. If we want to obtain the gradient w.r.t $\\mathbf{w}$ by using \"g.backward()\", we have to bypass a vector of size equal to w.shape to the function, i.e., \"g.backward(vect)\". "
   ]
  },
  {
   "cell_type": "code",
   "execution_count": 10,
   "metadata": {},
   "outputs": [
    {
     "name": "stdout",
     "output_type": "stream",
     "text": [
      "tensor([2., 4., 6.])\n"
     ]
    }
   ],
   "source": [
    "w = torch.tensor([1.0, 2.0, 3.0])\n",
    "w.requires_grad_(True)\n",
    "\n",
    "g = w**2 + 5\n",
    "\n",
    "# Below, the values [1.0, 1.0, 1.0] are multiplied by the gradient g.backward(vect)\n",
    "# of course using the ones does not modify the value of the gradient\n",
    "vect = torch.tensor([1.0, 1.0, 1.0], dtype=torch.float32) \n",
    "g.backward(vect)\n",
    "print(w.grad)"
   ]
  },
  {
   "cell_type": "markdown",
   "metadata": {},
   "source": [
    "On the other hand, when accessing the gradients in a for loop, PyTorch acummulates the gradients at each\n",
    "iteration. In order to avoid this behaviour, we have to use the function .grad.zero_() also at each iteration. See in the example below what happens when commenting and uncommenting the line \"w.grad.zero_()\":"
   ]
  },
  {
   "cell_type": "code",
   "execution_count": 11,
   "metadata": {},
   "outputs": [
    {
     "name": "stdout",
     "output_type": "stream",
     "text": [
      "tensor([2., 4., 6.])\n",
      "tensor([2., 4., 6.])\n",
      "tensor([2., 4., 6.])\n"
     ]
    }
   ],
   "source": [
    "# Pytorch uses a cumulative process for the gradients\n",
    "w = torch.tensor([1.0, 2.0, 3.0])\n",
    "w.requires_grad_(True)\n",
    "\n",
    "for i in range(3):\n",
    "    g = w**2 + 5\n",
    "    g.backward(torch.ones_like(w))\n",
    "    print(w.grad)\n",
    "    w.grad.zero_() # this line avoids the acummulation of the gradients uncomment it to see its effect\n",
    "\n",
    "# tensor([2., 4., 6.])\n",
    "# tensor([ 4.,  8., 12.])\n",
    "# tensor([ 6., 12., 18.])"
   ]
  },
  {
   "cell_type": "markdown",
   "metadata": {},
   "source": [
    "###  Question 1\n",
    "\n",
    "Verify that the gradients provided by PyTorch coincide with the analitical gradients of the function $f = \\exp \\big(-x^2-2x- \\sin (x) \\big)$ w.r.t $x$."
   ]
  },
  {
   "cell_type": "code",
   "execution_count": 12,
   "metadata": {},
   "outputs": [
    {
     "name": "stdout",
     "output_type": "stream",
     "text": [
      "PyTorch gradient: tensor([-0.0008])\n",
      "Analytical gradient: tensor([-0.0008])\n"
     ]
    }
   ],
   "source": [
    "x = torch.tensor([2.0])\n",
    "x.requires_grad_(True) # We will need the gradients with respect to this variable x\n",
    "y = torch.exp(-(x ** 2) - 2 * x - torch.sin(x))\n",
    "\n",
    "# we can also write y as:\n",
    "# y= e(-x^2).e(-2x).e(-sin(x))\n",
    "# dy/dx= e(-2x)e(-sin(x))(-2xe(-x^2))+ e(-x^2)e(-sin(x))(-2e(-2x))+ e(-x^2).e(-2x)(-cos(x)e(-sin(x)))\n",
    "\n",
    "y.backward() # dy/dx\n",
    "print(\"PyTorch gradient:\", x.grad)\n",
    "\n",
    "with torch.no_grad():\n",
    "    dy_dx = (\n",
    "        torch.exp(-2 * x) * torch.exp(-torch.sin(x)) * (-2 * x * torch.exp(-(x ** 2)))\n",
    "        + torch.exp(-(x ** 2)) * torch.exp(-torch.sin(x)) * (-2 * torch.exp(-2 * x))\n",
    "        + torch.exp(-(x ** 2)) * torch.exp(-2 * x) * (-torch.cos(x) * torch.exp(-torch.sin(x)))\n",
    "    )  # Analytical gradient\n",
    "print(\"Analytical gradient:\", dy_dx)"
   ]
  },
  {
   "cell_type": "markdown",
   "metadata": {},
   "source": [
    "## Linear Regression Basic Example\n",
    "\n",
    "We now provide a very simple example of linear regression with one input dimension, $y=wx+b$, and illustrate how we use PyTorch to optimise the parameters of the model"
   ]
  },
  {
   "cell_type": "code",
   "execution_count": 13,
   "metadata": {},
   "outputs": [],
   "source": [
    "Ndata = 100 \n",
    "x = torch.rand(Ndata)\n",
    "true_w = 1.5\n",
    "true_bias = 1.0\n",
    "\n",
    "# We generate the dataset from the actual model but adding some noise\n",
    "y = true_w*x + true_bias + 0.05*torch.randn(Ndata)\n",
    "\n",
    "# We make sure to set the requires_grad flag to True for both paratemers\n",
    "w = torch.tensor(0.0, dtype=torch.float32, requires_grad=True)\n",
    "bias = torch.tensor(0.0, dtype=torch.float32, requires_grad=True)"
   ]
  },
  {
   "cell_type": "markdown",
   "metadata": {},
   "source": [
    "We now define two useful functions, the prediction function and the objective function"
   ]
  },
  {
   "cell_type": "code",
   "execution_count": 14,
   "metadata": {},
   "outputs": [],
   "source": [
    "def model_prediction(x, w, bias):\n",
    "    return w * x + bias\n",
    "\n",
    "def loss_function(y, y_pred):\n",
    "    return ((y_pred-y)**2).mean()  # Mean Squared Error (MSE)"
   ]
  },
  {
   "cell_type": "markdown",
   "metadata": {},
   "source": [
    "And we use coordinate descent to estimate the parameters of the model\n",
    "\n",
    "\\begin{align*}\n",
    "    w_{k+1} = w_k - \\eta \\frac{dE}{dw}\\\\ \n",
    "    b_{k+1} = b_k - \\eta \\frac{dE}{db}\\\\ \n",
    "\\end{align*}\n",
    "\n",
    "We know that there is a closed form solution for $w$ and $b$ through the normal equation. The example is for illustrative purposes."
   ]
  },
  {
   "cell_type": "code",
   "execution_count": 15,
   "metadata": {},
   "outputs": [
    {
     "name": "stdout",
     "output_type": "stream",
     "text": [
      "Iteration = 1, Loss = 3.28326869, w = 0.204, bias = 0.351\n",
      "Iteration = 51, Loss = 0.01428717, w = 1.125, bias = 1.202\n",
      "Iteration = 101, Loss = 0.00579135, w = 1.300, bias = 1.106\n",
      "Iteration = 151, Loss = 0.00369917, w = 1.387, bias = 1.059\n",
      "Iteration = 201, Loss = 0.00318394, w = 1.431, bias = 1.035\n",
      "Iteration = 251, Loss = 0.00305707, w = 1.452, bias = 1.024\n",
      "Iteration = 301, Loss = 0.00302582, w = 1.463, bias = 1.018\n",
      "Iteration = 351, Loss = 0.00301813, w = 1.468, bias = 1.015\n",
      "Iteration = 401, Loss = 0.00301623, w = 1.471, bias = 1.014\n",
      "Iteration = 451, Loss = 0.00301577, w = 1.472, bias = 1.013\n",
      "Iteration = 500, Loss = 0.00301565, w = 1.473, bias = 1.013\n"
     ]
    }
   ],
   "source": [
    "Max_Niter = 500\n",
    "step_size = 0.1\n",
    "\n",
    "for Niter in range(Max_Niter):\n",
    "    y_approx = model_prediction(x, w, bias) # Evaluate the prediction and the loss\n",
    "    my_loss = loss_function(y, y_approx)\n",
    "    \n",
    "    # The function .backward() has to be called in order to load the grads in w.grad\n",
    "    # Notice that here it is not necessary to bypass a vector since loss_function is a scalar function\n",
    "    my_loss.backward()  \n",
    "        \n",
    "    with torch.no_grad():        # this line avoids the gradient update while allowing to change the value of w\n",
    "        w -= step_size*w.grad    # it is necessary to avoid the grad update while modifying the variable\n",
    "        bias -= step_size*bias.grad\n",
    "    \n",
    "    # Make the zero gradient to avoid acummulation\n",
    "    w.grad.zero_()\n",
    "    bias.grad.zero_()\n",
    "    \n",
    "    # We print the loss, and the parameters values every 50 iterations\n",
    "    if Niter%50 == 0:\n",
    "        print(f'Iteration = {Niter+1}, Loss = {my_loss:.8f}, w = {w:.3f}, bias = {bias:.3f}')\n",
    "\n",
    "print(f'Iteration = {Niter+1}, Loss = {my_loss:.8f}, w = {w:.3f}, bias = {bias:.3f}') \n",
    "    "
   ]
  },
  {
   "cell_type": "markdown",
   "metadata": {},
   "source": [
    "We finally plot the result"
   ]
  },
  {
   "cell_type": "code",
   "execution_count": 16,
   "metadata": {},
   "outputs": [
    {
     "data": {
      "text/plain": [
       "[<matplotlib.lines.Line2D at 0x12cf41310>]"
      ]
     },
     "execution_count": 16,
     "metadata": {},
     "output_type": "execute_result"
    },
    {
     "data": {
      "image/png": "[encoded data removed]",
      "text/plain": [
       "<Figure size 432x288 with 1 Axes>"
      ]
     },
     "metadata": {
      "needs_background": "light"
     },
     "output_type": "display_data"
    }
   ],
   "source": [
    "import matplotlib.pyplot as plt\n",
    "%matplotlib inline\n",
    "\n",
    "plt.plot(x, y, 'x')\n",
    "xtest = torch.linspace(0, 1, 10)\n",
    "with torch.no_grad():\n",
    "    y_pred = model_prediction(xtest, w, bias)\n",
    "plt.plot(xtest, y_pred)"
   ]
  },
  {
   "cell_type": "markdown",
   "metadata": {},
   "source": [
    "### Loading a .csv dataset\n",
    "\n",
    "We can take advantage of the interoperability between Numpy and PyTorch by loading a .csv data as a numpy array and transforming it to a Torch Tensor using `torch.from_numpy(dataset_np)`. "
   ]
  },
  {
   "cell_type": "code",
   "execution_count": 17,
   "metadata": {},
   "outputs": [
    {
     "data": {
      "text/plain": [
       "('./winequality-red.csv', <http.client.HTTPMessage at 0x12cf808b0>)"
      ]
     },
     "execution_count": 17,
     "metadata": {},
     "output_type": "execute_result"
    }
   ],
   "source": [
    "# This cell is simply to download the winequality-red.csv dataset from its root url\n",
    "import urllib.request\n",
    "urllib.request.urlretrieve('https://archive.ics.uci.edu/ml/machine-learning-databases/wine-quality/winequality-red.csv', './winequality-red.csv')"
   ]
  },
  {
   "cell_type": "code",
   "execution_count": 18,
   "metadata": {},
   "outputs": [
    {
     "data": {
      "text/plain": [
       "tensor([[ 7.4000,  0.7000,  0.0000,  ...,  0.5600,  9.4000,  5.0000],\n",
       "        [ 7.8000,  0.8800,  0.0000,  ...,  0.6800,  9.8000,  5.0000],\n",
       "        [ 7.8000,  0.7600,  0.0400,  ...,  0.6500,  9.8000,  5.0000],\n",
       "        ...,\n",
       "        [ 6.3000,  0.5100,  0.1300,  ...,  0.7500, 11.0000,  6.0000],\n",
       "        [ 5.9000,  0.6450,  0.1200,  ...,  0.7100, 10.2000,  5.0000],\n",
       "        [ 6.0000,  0.3100,  0.4700,  ...,  0.6600, 11.0000,  6.0000]])"
      ]
     },
     "execution_count": 18,
     "metadata": {},
     "output_type": "execute_result"
    }
   ],
   "source": [
    "import numpy as np\n",
    "\n",
    "# In the line below we avoid the first row (skiprows=1) of .csv file that contains names\n",
    "# The delimeter of data for this dataset is \";\"\n",
    "wine_np = np.loadtxt(\"./winequality-red.csv\", dtype=np.float32, delimiter=\";\", skiprows=1)\n",
    "wine_torch = torch.from_numpy(wine_np) # We take advantage of the interoperability with numpy\n",
    "wine_torch"
   ]
  },
  {
   "cell_type": "markdown",
   "metadata": {},
   "source": [
    "### Revisiting linear regression for the Rented Bike Dataset of lab notebook 2\n",
    "\n",
    "We will implement a linear regression for the Rented Bike dataset previously used in Lab. 2. We will use the same data preparation through `sklearn.preprocessing`: the OneHotEncoder() that allows to transform a categorical variable to a one-hot encoding representation, and StandardScaler() performs feature scaling by standardisation."
   ]
  },
  {
   "cell_type": "code",
   "execution_count": 19,
   "metadata": {},
   "outputs": [
    {
     "data": {
      "text/plain": [
       "('./SeoulBikeData.csv', <http.client.HTTPMessage at 0x12d12ff70>)"
      ]
     },
     "execution_count": 19,
     "metadata": {},
     "output_type": "execute_result"
    }
   ],
   "source": [
    "import urllib.request\n",
    "urllib.request.urlretrieve('https://archive.ics.uci.edu/ml/machine-learning-databases/00560/SeoulBikeData.csv', './SeoulBikeData.csv')"
   ]
  },
  {
   "cell_type": "markdown",
   "metadata": {},
   "source": [
    "The following code was borrowed from Lab Notebook 2. You can go back to that Notebook for details."
   ]
  },
  {
   "cell_type": "code",
   "execution_count": 20,
   "metadata": {},
   "outputs": [],
   "source": [
    "import pandas as pd \n",
    "\n",
    "bike_sharing_data = pd.read_csv('SeoulBikeData.csv', encoding= 'unicode_escape')\n",
    "bike_sharing_data = bike_sharing_data.drop('Date', axis=1)\n",
    "\n",
    "for col in ['Rented Bike Count', 'Hour', 'Humidity(%)', 'Visibility (10m)']:\n",
    "    bike_sharing_data[col] = bike_sharing_data[col].astype('float64')\n",
    "\n",
    "attributes_cat = ['Seasons', 'Holiday', 'Functioning Day']\n",
    "attributes_num = ['Hour', 'Temperature(°C)', 'Humidity(%)', 'Wind speed (m/s)', 'Visibility (10m)', \\\n",
    "                  'Dew point temperature(°C)', 'Solar Radiation (MJ/m2)', 'Rainfall(mm)', 'Snowfall (cm)']\n",
    "\n",
    "# We split our dataset for Training and Testing\n",
    "\n",
    "from sklearn.model_selection import train_test_split\n",
    "bs_train_set, bs_test_set = train_test_split(bike_sharing_data, test_size=0.15, random_state=42)\n",
    "from sklearn.preprocessing import OneHotEncoder\n",
    "from sklearn.preprocessing import StandardScaler\n",
    "from sklearn.compose import ColumnTransformer\n",
    "\n",
    "full_transform = ColumnTransformer([\n",
    "    (\"num\", StandardScaler(), attributes_num),\n",
    "    (\"cat\", OneHotEncoder(), attributes_cat),\n",
    "])\n",
    "\n",
    "# We separate the features from the labels\n",
    "\n",
    "bs_train_set_attributes = bs_train_set.drop('Rented Bike Count', axis=1)\n",
    "bs_test_set_attributes = bs_test_set.drop('Rented Bike Count', axis=1)\n",
    "bs_train_set_labels = bs_train_set['Rented Bike Count']\n",
    "bs_test_set_labels = bs_test_set['Rented Bike Count']"
   ]
  },
  {
   "cell_type": "markdown",
   "metadata": {},
   "source": [
    "We now use the function `torch.from_numpy()` to transform the data previously prepared, into a Torch Tensor. We make sure to add a column of ones to the attributes (remember that $x_0=1$) both in the train and test sets."
   ]
  },
  {
   "cell_type": "code",
   "execution_count": 21,
   "metadata": {},
   "outputs": [],
   "source": [
    "# We apply the preprocessing transformation over the features of the training data\n",
    "\n",
    "bs_train_set_attributes_prepared = full_transform.fit_transform(bs_train_set_attributes)\n",
    "bs_test_set_attributes_prepared = full_transform.transform(bs_test_set_attributes)\n",
    "\n",
    "# The line below adds a feature vector of ones in order to allow the bias weight\n",
    "# to be represented in a unique weight vector.\n",
    "Train_torch = torch.from_numpy(bs_train_set_attributes_prepared)\n",
    "Train_torch = torch.cat((torch.ones([Train_torch.shape[0],1], dtype=torch.float64), Train_torch), 1)\n",
    "\n",
    "Test_torch = torch.from_numpy(bs_test_set_attributes_prepared)\n",
    "Test_torch = torch.cat((torch.ones([Test_torch.shape[0],1], dtype=torch.float64), Test_torch), 1)\n",
    "\n",
    "Train_Label_torch = torch.from_numpy(bs_train_set_labels.values)\n",
    "Test_Label_torch = torch.from_numpy(bs_test_set_labels.values)"
   ]
  },
  {
   "cell_type": "markdown",
   "metadata": {},
   "source": [
    "We create a vector of weights $\\mathbf{w}$ with the corresponding flag for the gradient and two functions, one for prediction and one for the loss function."
   ]
  },
  {
   "cell_type": "code",
   "execution_count": 22,
   "metadata": {},
   "outputs": [],
   "source": [
    "# We create the vector of weights to be optimised in the linear regression model\n",
    "dim = Train_torch.shape[1]\n",
    "w = torch.randn([dim,1], dtype=torch.float64) # vector of weight w is a vector Dim x 1\n",
    "w.requires_grad_(True)\n",
    "\n",
    "# We create the model prediction which consists on an inner product X'w, where X is a design matrix of N x Dim\n",
    "def model_prediction_lr(x, w):\n",
    "    return torch.matmul(x, w)\n",
    "\n",
    "def loss_function_lr(y, y_pred):\n",
    "    return ((y_pred - y) ** 2).mean() # Mean Squared Error (MSE)"
   ]
  },
  {
   "cell_type": "markdown",
   "metadata": {},
   "source": [
    "We finally use gradient descent to find the optimal value for $\\mathbf{w}$\n",
    "$$\n",
    "\\mathbf{w}_{k+1} = \\mathbf{w}_k - \\eta \\frac{dE(\\mathbf{w})}{d\\mathbf{w}}\n",
    "$$\n"
   ]
  },
  {
   "cell_type": "code",
   "execution_count": 25,
   "metadata": {
    "scrolled": false
   },
   "outputs": [
    {
     "name": "stdout",
     "output_type": "stream",
     "text": [
      "Iteration = 1, Loss = 911483.99453429\n",
      "Iteration = 21, Loss = 802837.42601389\n",
      "Iteration = 41, Loss = 718206.40208739\n",
      "Iteration = 50, Loss = 686496.60378299\n"
     ]
    }
   ],
   "source": [
    "# Training the model with gradient descent\n",
    "max_n_iter = 50 # If you have many iterations, this process can take some time\n",
    "step_size = 0.001\n",
    "\n",
    "for n_iter in range(max_n_iter):\n",
    "    y_approx = model_prediction_lr(Train_torch, w)\n",
    "    my_loss = loss_function_lr(Train_Label_torch, y_approx)\n",
    "\n",
    "    # The function .backward() has to be called in order to load the grads in w.grad;\n",
    "    # Notice that here it is not necessary to pass a vector since loss_function is a scalar function\n",
    "    my_loss.backward()\n",
    "\n",
    "    with torch.no_grad(): # This line avoids the gradient update whilst allowing us to change the value of w\n",
    "        w -= (step_size * w.grad) # It is necessary to avoid the grad update whilst modifying the variable\n",
    "\n",
    "    # Zero the gradients to avoid acummulation\n",
    "    w.grad.zero_()\n",
    "\n",
    "    if n_iter % 20 == 0 or n_iter == max_n_iter - 1:\n",
    "        print(f\"Iteration = {n_iter+1}, Loss = {my_loss:.8f}\")"
   ]
  },
  {
   "cell_type": "markdown",
   "metadata": {},
   "source": [
    "We finally provide the RMSE for the test set"
   ]
  },
  {
   "cell_type": "code",
   "execution_count": 26,
   "metadata": {},
   "outputs": [
    {
     "name": "stdout",
     "output_type": "stream",
     "text": [
      "The Root Mean Squared Error over the test set is: 819.0066933364309\n"
     ]
    }
   ],
   "source": [
    "# RMSE over the test set\n",
    "y_pred_test = model_prediction_lr(Test_torch, w)\n",
    "MSE_test = loss_function_lr(Test_Label_torch, y_pred_test)\n",
    "\n",
    "print('The Root Mean Squared Error over the test set is:', np.sqrt(MSE_test.detach().numpy()))"
   ]
  },
  {
   "cell_type": "markdown",
   "metadata": {},
   "source": [
    "### Question 2\n",
    "\n",
    "Implement the prediction using an exponential transformation for model_prediction_lr, i.e., $y_{\\text{approx}} = \\exp(\\mathbf{w}^{\\top}\\mathbf{x})$. Since the labels are positive values, this transformation guarrantees that the predictions are always positive. Hint: Be careful initialising w and updating it with big step_sizes."
   ]
  },
  {
   "cell_type": "code",
   "execution_count": null,
   "metadata": {},
   "outputs": [],
   "source": [
    "# Provide your answer here"
   ]
  }
 ],
 "metadata": {
  "kernelspec": {
   "display_name": "Python 3 (ipykernel)",
   "language": "python",
   "name": "python3"
  },
  "language_info": {
   "codemirror_mode": {
    "name": "ipython",
    "version": 3
   },
   "file_extension": ".py",
   "mimetype": "text/x-python",
   "name": "python",
   "nbconvert_exporter": "python",
   "pygments_lexer": "ipython3",
   "version": "3.8.12"
  }
 },
 "nbformat": 4,
 "nbformat_minor": 4
}
